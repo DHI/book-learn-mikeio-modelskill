{
 "cells": [
  {
   "cell_type": "markdown",
   "metadata": {},
   "source": [
    "# Multi model comparison\n",
    "\n",
    "We often want to compare the result of multiple models. \n",
    "\n",
    "**Calibration**. We have several \"runs\" of the same model with different settings. We would like to find the best. \n",
    "\n",
    "**Validation**. We would like to compare our model with alternative models, e.g. a regional DHI model or an external model. \n",
    "\n",
    "In this notebook, we will consider several wave models for the Southern North Sea and compare to both point measurements and satellite altimetry data. \n"
   ]
  },
  {
   "cell_type": "code",
   "execution_count": 1,
   "metadata": {},
   "outputs": [],
   "source": [
    "import numpy as np\n",
    "import modelskill as ms"
   ]
  },
  {
   "cell_type": "markdown",
   "metadata": {},
   "source": [
    "## Define observations"
   ]
  },
  {
   "cell_type": "code",
   "execution_count": 2,
   "metadata": {},
   "outputs": [],
   "source": [
    "o1 = ms.PointObservation('data/SW/HKNA_Hm0.dfs0', item=0, x=4.2420, y=52.6887, name=\"HKNA\")\n",
    "o2 = ms.PointObservation(\"data/SW/eur_Hm0.dfs0\", item=0, x=3.2760, y=51.9990, name=\"EPL\")\n",
    "o3 = ms.TrackObservation(\"data/SW/Alti_c2_Dutch.dfs0\", item=3, name=\"c2\")"
   ]
  },
  {
   "cell_type": "markdown",
   "metadata": {},
   "source": [
    "## Define models"
   ]
  },
  {
   "cell_type": "code",
   "execution_count": 3,
   "metadata": {},
   "outputs": [],
   "source": [
    "mr1 = ms.model_result('data/SW/HKZN_local_2017_DutchCoast.dfsu', name='SW_1', item=0)\n",
    "mr2 = ms.model_result('data/SW/HKZN_local_2017_DutchCoast_v2.dfsu', name='SW_2', item=0)\n",
    "mr3 = ms.model_result('data/SW/ERA5_DutchCoast.nc', name='ERA5', item=\"swh\")"
   ]
  },
  {
   "cell_type": "code",
   "execution_count": 4,
   "metadata": {},
   "outputs": [],
   "source": [
    "##"
   ]
  },
  {
   "cell_type": "markdown",
   "metadata": {},
   "source": [
    "## Temporal coverage"
   ]
  },
  {
   "cell_type": "code",
   "execution_count": 5,
   "metadata": {},
   "outputs": [
    {
     "data": {
      "image/png": "[encoded data removed]",
      "text/plain": [
       "<Figure size 700x270 with 1 Axes>"
      ]
     },
     "metadata": {},
     "output_type": "display_data"
    }
   ],
   "source": [
    "ms.plotting.temporal_coverage([o1, o2, o3], [mr1, mr2, mr3]);"
   ]
  },
  {
   "cell_type": "markdown",
   "metadata": {},
   "source": [
    "## Match observations and model results"
   ]
  },
  {
   "cell_type": "code",
   "execution_count": 8,
   "metadata": {},
   "outputs": [
    {
     "data": {
      "text/plain": [
       "<ComparerCollection>\n",
       "Comparer: HKNA\n",
       "Comparer: EPL\n",
       "Comparer: c2"
      ]
     },
     "execution_count": 8,
     "metadata": {},
     "output_type": "execute_result"
    }
   ],
   "source": [
    "# HKNA is outside ERA5 domain -> pick nearest grid cell\n",
    "cc = ms.match(obs=[o1, o2, o3], mod=[mr1, mr2, mr3], spatial_method=\"nearest\")\n",
    "cc"
   ]
  },
  {
   "cell_type": "code",
   "execution_count": 9,
   "metadata": {},
   "outputs": [
    {
     "name": "stderr",
     "output_type": "stream",
     "text": [
      "/home/jan/src/book-learn-mikeio-modelskill/.venv/lib/python3.10/site-packages/modelskill/metrics.py:227: FutureWarning: Series.ravel is deprecated. The underlying array is already 1D, so ravel is not necessary.  Use `to_numpy()` for conversion to a numpy array instead.\n",
      "  residual = obs.ravel() - model.ravel()\n",
      "/home/jan/src/book-learn-mikeio-modelskill/.venv/lib/python3.10/site-packages/modelskill/metrics.py:227: FutureWarning: Series.ravel is deprecated. The underlying array is already 1D, so ravel is not necessary.  Use `to_numpy()` for conversion to a numpy array instead.\n",
      "  residual = obs.ravel() - model.ravel()\n",
      "/home/jan/src/book-learn-mikeio-modelskill/.venv/lib/python3.10/site-packages/modelskill/metrics.py:227: FutureWarning: Series.ravel is deprecated. The underlying array is already 1D, so ravel is not necessary.  Use `to_numpy()` for conversion to a numpy array instead.\n",
      "  residual = obs.ravel() - model.ravel()\n"
     ]
    },
    {
     "data": {
      "text/plain": [
       "<Comparer>\n",
       "Quantity: Significant wave height [m]\n",
       "Observation: EPL, n_points=66\n",
       " Model: SW_1, rmse=0.225\n",
       " Model: SW_2, rmse=0.234\n",
       " Model: ERA5, rmse=0.290"
      ]
     },
     "execution_count": 9,
     "metadata": {},
     "output_type": "execute_result"
    }
   ],
   "source": [
    "cc[\"EPL\"]   # select a single comparer from the collection like this"
   ]
  },
  {
   "cell_type": "markdown",
   "metadata": {},
   "source": [
    "## Perform analysis\n",
    "You can perform simple filtering on specific `observation` or specific `model`. You can refer to observations and models using their _name_ or _index_. \n",
    "\n",
    "The main analysis methods are:\n",
    "* skill()\n",
    "* mean_skill()\n",
    "* scatter()\n",
    "* taylor()"
   ]
  },
  {
   "cell_type": "code",
   "execution_count": null,
   "metadata": {},
   "outputs": [],
   "source": [
    "cc.skill()"
   ]
  },
  {
   "cell_type": "code",
   "execution_count": null,
   "metadata": {},
   "outputs": [],
   "source": [
    "cc.sel(observation=\"c2\").skill()"
   ]
  },
  {
   "cell_type": "code",
   "execution_count": null,
   "metadata": {},
   "outputs": [],
   "source": [
    "cc.sel(model=0, observation=[0,\"c2\"]).mean_skill()"
   ]
  },
  {
   "cell_type": "code",
   "execution_count": null,
   "metadata": {},
   "outputs": [],
   "source": [
    "cc.sel(model='SW_1').plot.scatter(cmap='OrRd');"
   ]
  },
  {
   "cell_type": "code",
   "execution_count": null,
   "metadata": {},
   "outputs": [],
   "source": [
    "cc.plot.taylor(normalize_std=True, aggregate_observations=False)"
   ]
  },
  {
   "cell_type": "markdown",
   "metadata": {},
   "source": [
    "### Time series plot (specifically for point comparisons)\n",
    "If you select an comparison from the collection which is a PointComparer, you can do a time series plot"
   ]
  },
  {
   "cell_type": "code",
   "execution_count": null,
   "metadata": {},
   "outputs": [],
   "source": [
    "cc['EPL'].plot.timeseries(figsize=(12,4));"
   ]
  },
  {
   "cell_type": "markdown",
   "metadata": {},
   "source": [
    "## Filtering on time\n",
    "Use the `start` and `end` arguments to do your analysis on part of the time series"
   ]
  },
  {
   "cell_type": "code",
   "execution_count": null,
   "metadata": {},
   "outputs": [],
   "source": [
    "cc.sel(model=\"SW_1\", end='2017-10-28').skill()"
   ]
  },
  {
   "cell_type": "code",
   "execution_count": null,
   "metadata": {},
   "outputs": [],
   "source": [
    "cc.sel(model='SW_2', start='2017-10-28').plot.scatter(cmap='OrRd', figsize=(6,7));"
   ]
  },
  {
   "cell_type": "markdown",
   "metadata": {},
   "source": [
    "## Filtering on area\n",
    "You can do you analysis in a specific `area` by providing a bounding box or a closed polygon"
   ]
  },
  {
   "cell_type": "code",
   "execution_count": null,
   "metadata": {},
   "outputs": [],
   "source": [
    "bbox = np.array([0.5,52.5,5,54])\n",
    "polygon = np.array([[6,51],[0,55],[0,51],[6,51]])"
   ]
  },
  {
   "cell_type": "code",
   "execution_count": null,
   "metadata": {},
   "outputs": [],
   "source": [
    "cc.sel(model=\"SW_1\", area=bbox).skill()"
   ]
  },
  {
   "cell_type": "code",
   "execution_count": null,
   "metadata": {},
   "outputs": [],
   "source": [
    "cc.sel(model=\"SW_2\", area=polygon).plot.scatter();"
   ]
  },
  {
   "cell_type": "markdown",
   "metadata": {},
   "source": [
    "## Skill object\n",
    "\n",
    "The skill() and mean_skill() methods return a skill object that can visualize results in various ways. The primary methods of the skill object are:\n",
    "\n",
    "* style()\n",
    "* plot_bar()\n",
    "* plot_barh()\n",
    "* plot_line()\n",
    "* plot_grid()\n",
    "* sel()"
   ]
  },
  {
   "cell_type": "code",
   "execution_count": null,
   "metadata": {},
   "outputs": [],
   "source": [
    "s = cc.skill()"
   ]
  },
  {
   "cell_type": "code",
   "execution_count": null,
   "metadata": {},
   "outputs": [],
   "source": [
    "s.style()"
   ]
  },
  {
   "cell_type": "code",
   "execution_count": null,
   "metadata": {},
   "outputs": [],
   "source": [
    "s.style(columns='rmse')"
   ]
  },
  {
   "cell_type": "code",
   "execution_count": null,
   "metadata": {},
   "outputs": [],
   "source": [
    "s['rmse'].plot.bar();\n",
    "s['rmse'].plot.barh();  # horizontal version"
   ]
  },
  {
   "cell_type": "code",
   "execution_count": null,
   "metadata": {},
   "outputs": [],
   "source": [
    "s = cc.skill(by=['model','freq:12H'], metrics=['bias','rmse','si'])"
   ]
  },
  {
   "cell_type": "code",
   "execution_count": null,
   "metadata": {},
   "outputs": [],
   "source": [
    "s.style()"
   ]
  },
  {
   "cell_type": "code",
   "execution_count": null,
   "metadata": {},
   "outputs": [],
   "source": [
    "s['rmse'].plot.line(title='Hm0 rmse [m]');"
   ]
  },
  {
   "cell_type": "code",
   "execution_count": null,
   "metadata": {},
   "outputs": [],
   "source": [
    "s.plot.grid('si', fmt='0.1%', title='Hm0 Scatter index');"
   ]
  },
  {
   "cell_type": "markdown",
   "metadata": {},
   "source": [
    "### The sel() method can subset the skill object \n",
    "\n",
    "A new skill object will be returned"
   ]
  },
  {
   "cell_type": "code",
   "execution_count": null,
   "metadata": {},
   "outputs": [],
   "source": [
    "s = cc.skill()\n",
    "s.style()"
   ]
  },
  {
   "cell_type": "code",
   "execution_count": null,
   "metadata": {},
   "outputs": [],
   "source": [
    "s.sel(model='SW_1').style()"
   ]
  },
  {
   "cell_type": "code",
   "execution_count": null,
   "metadata": {},
   "outputs": [],
   "source": [
    "s.sel(observation='HKNA').style()"
   ]
  },
  {
   "cell_type": "code",
   "execution_count": null,
   "metadata": {},
   "outputs": [],
   "source": [
    "s.query('rmse>0.25').style()"
   ]
  }
 ],
 "metadata": {
  "interpreter": {
   "hash": "fa576ebcd40e010bdc0ae86b06ce09151f3424f9e9aed6893ff04f39a9299d89"
  },
  "kernelspec": {
   "display_name": "Python 3.8.10 64-bit ('base': conda)",
   "name": "python3"
  },
  "language_info": {
   "codemirror_mode": {
    "name": "ipython",
    "version": 3
   },
   "file_extension": ".py",
   "mimetype": "text/x-python",
   "name": "python",
   "nbconvert_exporter": "python",
   "pygments_lexer": "ipython3",
   "version": "3.10.12"
  },
  "orig_nbformat": 2
 },
 "nbformat": 4,
 "nbformat_minor": 2
}
