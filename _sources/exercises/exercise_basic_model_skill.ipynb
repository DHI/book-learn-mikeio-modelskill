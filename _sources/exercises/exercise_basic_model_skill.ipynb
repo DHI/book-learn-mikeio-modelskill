{
 "cells": [
  {
   "cell_type": "markdown",
   "metadata": {},
   "source": [
    "# Exercise: Basic model skill"
   ]
  },
  {
   "cell_type": "code",
   "execution_count": 1,
   "metadata": {},
   "outputs": [],
   "source": [
    "import modelskill as ms"
   ]
  },
  {
   "cell_type": "markdown",
   "metadata": {},
   "source": [
    "You want do to a simple comparison between model and observation using the fmskill.compare method, but the following code snippet doesn't work.\n",
    "\n",
    "Change the code below, so that it works as intended. Hint: look at the documentation\n",
    "```\n",
    "help(modelskill.match)\n",
    "```"
   ]
  },
  {
   "cell_type": "code",
   "execution_count": 3,
   "metadata": {},
   "outputs": [
    {
     "ename": "ValueError",
     "evalue": "Could not compare. Unknown model result type <class 'str'>. Input has more than 1 item, but item was not given! Available items: ['Europlatform: Sign. Wave Height', 'K14: Sign. Wave Height', 'F16: Sign. Wave Height', 'F3: Sign. Wave Height', 'Europlatform: Sign. Wave Height, W', 'K14: Sign. Wave Height, W', 'F16: Sign. Wave Height, W', 'F3: Sign. Wave Height, W', 'Europlatform: Sign. Wave Height, S', 'K14: Sign. Wave Height, S', 'F16: Sign. Wave Height, S', 'F3: Sign. Wave Height, S', 'Europlatform: Wind speed', 'K14: Wind speed', 'F16: Wind speed', 'F3: Wind speed', 'Europlatform: Wind direction', 'K14: Wind direction', 'F16: Wind direction', 'F3: Wind direction']",
     "output_type": "error",
     "traceback": [
      "\u001b[0;31m---------------------------------------------------------------------------\u001b[0m",
      "\u001b[0;31mValueError\u001b[0m                                Traceback (most recent call last)",
      "File \u001b[0;32m~/src/book-learn-mikeio-modelskill/.venv/lib/python3.10/site-packages/modelskill/matching.py:560\u001b[0m, in \u001b[0;36m_parse_single_model\u001b[0;34m(mod, item, gtype)\u001b[0m\n\u001b[1;32m    559\u001b[0m \u001b[38;5;28;01mtry\u001b[39;00m:\n\u001b[0;32m--> 560\u001b[0m     \u001b[38;5;28;01mreturn\u001b[39;00m \u001b[43mmodel_result\u001b[49m\u001b[43m(\u001b[49m\u001b[43mmod\u001b[49m\u001b[43m,\u001b[49m\u001b[43m \u001b[49m\u001b[43mitem\u001b[49m\u001b[38;5;241;43m=\u001b[39;49m\u001b[43mitem\u001b[49m\u001b[43m,\u001b[49m\u001b[43m \u001b[49m\u001b[43mgtype\u001b[49m\u001b[38;5;241;43m=\u001b[39;49m\u001b[43mgtype\u001b[49m\u001b[43m)\u001b[49m\n\u001b[1;32m    561\u001b[0m \u001b[38;5;28;01mexcept\u001b[39;00m \u001b[38;5;167;01mValueError\u001b[39;00m \u001b[38;5;28;01mas\u001b[39;00m e:\n",
      "File \u001b[0;32m~/src/book-learn-mikeio-modelskill/.venv/lib/python3.10/site-packages/modelskill/model/factory.py:55\u001b[0m, in \u001b[0;36mmodel_result\u001b[0;34m(data, gtype, **kwargs)\u001b[0m\n\u001b[1;32m     53\u001b[0m     geometry \u001b[38;5;241m=\u001b[39m GeometryType\u001b[38;5;241m.\u001b[39mfrom_string(gtype)\n\u001b[0;32m---> 55\u001b[0m \u001b[38;5;28;01mreturn\u001b[39;00m \u001b[43m_modelresult_lookup\u001b[49m\u001b[43m[\u001b[49m\u001b[43mgeometry\u001b[49m\u001b[43m]\u001b[49m\u001b[43m(\u001b[49m\n\u001b[1;32m     56\u001b[0m \u001b[43m    \u001b[49m\u001b[43mdata\u001b[49m\u001b[38;5;241;43m=\u001b[39;49m\u001b[43mdata\u001b[49m\u001b[43m,\u001b[49m\n\u001b[1;32m     57\u001b[0m \u001b[43m    \u001b[49m\u001b[38;5;241;43m*\u001b[39;49m\u001b[38;5;241;43m*\u001b[39;49m\u001b[43mkwargs\u001b[49m\u001b[43m,\u001b[49m\n\u001b[1;32m     58\u001b[0m \u001b[43m\u001b[49m\u001b[43m)\u001b[49m\n",
      "File \u001b[0;32m~/src/book-learn-mikeio-modelskill/.venv/lib/python3.10/site-packages/modelskill/model/point.py:50\u001b[0m, in \u001b[0;36mPointModelResult.__init__\u001b[0;34m(self, data, name, x, y, item, quantity, aux_items)\u001b[0m\n\u001b[1;32m     49\u001b[0m \u001b[38;5;28;01mif\u001b[39;00m \u001b[38;5;129;01mnot\u001b[39;00m \u001b[38;5;28mself\u001b[39m\u001b[38;5;241m.\u001b[39m_is_input_validated(data):\n\u001b[0;32m---> 50\u001b[0m     data \u001b[38;5;241m=\u001b[39m \u001b[43m_parse_point_input\u001b[49m\u001b[43m(\u001b[49m\n\u001b[1;32m     51\u001b[0m \u001b[43m        \u001b[49m\u001b[43mdata\u001b[49m\u001b[43m,\u001b[49m\u001b[43m \u001b[49m\u001b[43mname\u001b[49m\u001b[38;5;241;43m=\u001b[39;49m\u001b[43mname\u001b[49m\u001b[43m,\u001b[49m\u001b[43m \u001b[49m\u001b[43mitem\u001b[49m\u001b[38;5;241;43m=\u001b[39;49m\u001b[43mitem\u001b[49m\u001b[43m,\u001b[49m\u001b[43m \u001b[49m\u001b[43mquantity\u001b[49m\u001b[38;5;241;43m=\u001b[39;49m\u001b[43mquantity\u001b[49m\u001b[43m,\u001b[49m\u001b[43m \u001b[49m\u001b[43maux_items\u001b[49m\u001b[38;5;241;43m=\u001b[39;49m\u001b[43maux_items\u001b[49m\n\u001b[1;32m     52\u001b[0m \u001b[43m    \u001b[49m\u001b[43m)\u001b[49m\n\u001b[1;32m     54\u001b[0m     data\u001b[38;5;241m.\u001b[39mcoords[\u001b[38;5;124m\"\u001b[39m\u001b[38;5;124mx\u001b[39m\u001b[38;5;124m\"\u001b[39m] \u001b[38;5;241m=\u001b[39m x\n",
      "File \u001b[0;32m~/src/book-learn-mikeio-modelskill/.venv/lib/python3.10/site-packages/modelskill/timeseries/_point.py:95\u001b[0m, in \u001b[0;36m_parse_point_input\u001b[0;34m(data, name, item, quantity, aux_items)\u001b[0m\n\u001b[1;32m     94\u001b[0m     valid_items \u001b[38;5;241m=\u001b[39m \u001b[38;5;28mlist\u001b[39m(data\u001b[38;5;241m.\u001b[39mdata_vars)\n\u001b[0;32m---> 95\u001b[0m sel_items \u001b[38;5;241m=\u001b[39m \u001b[43m_parse_point_items\u001b[49m\u001b[43m(\u001b[49m\u001b[43mvalid_items\u001b[49m\u001b[43m,\u001b[49m\u001b[43m \u001b[49m\u001b[43mitem\u001b[49m\u001b[38;5;241;43m=\u001b[39;49m\u001b[43mitem\u001b[49m\u001b[43m,\u001b[49m\u001b[43m \u001b[49m\u001b[43maux_items\u001b[49m\u001b[38;5;241;43m=\u001b[39;49m\u001b[43maux_items\u001b[49m\u001b[43m)\u001b[49m\n\u001b[1;32m     96\u001b[0m item_name \u001b[38;5;241m=\u001b[39m sel_items\u001b[38;5;241m.\u001b[39mvalues\n",
      "File \u001b[0;32m~/src/book-learn-mikeio-modelskill/.venv/lib/python3.10/site-packages/modelskill/timeseries/_point.py:36\u001b[0m, in \u001b[0;36m_parse_point_items\u001b[0;34m(items, item, aux_items)\u001b[0m\n\u001b[1;32m     35\u001b[0m     \u001b[38;5;28;01melif\u001b[39;00m \u001b[38;5;28mlen\u001b[39m(items) \u001b[38;5;241m>\u001b[39m \u001b[38;5;241m1\u001b[39m:\n\u001b[0;32m---> 36\u001b[0m         \u001b[38;5;28;01mraise\u001b[39;00m \u001b[38;5;167;01mValueError\u001b[39;00m(\n\u001b[1;32m     37\u001b[0m             \u001b[38;5;124mf\u001b[39m\u001b[38;5;124m\"\u001b[39m\u001b[38;5;124mInput has more than 1 item, but item was not given! Available items: \u001b[39m\u001b[38;5;132;01m{\u001b[39;00mitems\u001b[38;5;132;01m}\u001b[39;00m\u001b[38;5;124m\"\u001b[39m\n\u001b[1;32m     38\u001b[0m         )\n\u001b[1;32m     40\u001b[0m item \u001b[38;5;241m=\u001b[39m _get_name(item, valid_names\u001b[38;5;241m=\u001b[39mitems)\n",
      "\u001b[0;31mValueError\u001b[0m: Input has more than 1 item, but item was not given! Available items: ['Europlatform: Sign. Wave Height', 'K14: Sign. Wave Height', 'F16: Sign. Wave Height', 'F3: Sign. Wave Height', 'Europlatform: Sign. Wave Height, W', 'K14: Sign. Wave Height, W', 'F16: Sign. Wave Height, W', 'F3: Sign. Wave Height, W', 'Europlatform: Sign. Wave Height, S', 'K14: Sign. Wave Height, S', 'F16: Sign. Wave Height, S', 'F3: Sign. Wave Height, S', 'Europlatform: Wind speed', 'K14: Wind speed', 'F16: Wind speed', 'F3: Wind speed', 'Europlatform: Wind direction', 'K14: Wind direction', 'F16: Wind direction', 'F3: Wind direction']",
      "\nDuring handling of the above exception, another exception occurred:\n",
      "\u001b[0;31mValueError\u001b[0m                                Traceback (most recent call last)",
      "Cell \u001b[0;32mIn[3], line 4\u001b[0m\n\u001b[1;32m      1\u001b[0m fn_mod \u001b[38;5;241m=\u001b[39m \u001b[38;5;124m'\u001b[39m\u001b[38;5;124m../data/SW/ts_storm_4.dfs0\u001b[39m\u001b[38;5;124m'\u001b[39m\n\u001b[1;32m      2\u001b[0m fn_obs \u001b[38;5;241m=\u001b[39m \u001b[38;5;124m'\u001b[39m\u001b[38;5;124m../data/SW/eur_Hm0.dfs0\u001b[39m\u001b[38;5;124m'\u001b[39m\n\u001b[0;32m----> 4\u001b[0m c \u001b[38;5;241m=\u001b[39m \u001b[43mms\u001b[49m\u001b[38;5;241;43m.\u001b[39;49m\u001b[43mmatch\u001b[49m\u001b[43m(\u001b[49m\u001b[43mfn_obs\u001b[49m\u001b[43m,\u001b[49m\u001b[43m \u001b[49m\u001b[43mfn_mod\u001b[49m\u001b[43m)\u001b[49m\n",
      "File \u001b[0;32m~/src/book-learn-mikeio-modelskill/.venv/lib/python3.10/site-packages/modelskill/matching.py:241\u001b[0m, in \u001b[0;36mmatch\u001b[0;34m(obs, mod, obs_item, mod_item, gtype, max_model_gap, spatial_method)\u001b[0m\n\u001b[1;32m    195\u001b[0m \u001b[38;5;250m\u001b[39m\u001b[38;5;124;03m\"\"\"Match observation and model result data in space and time\u001b[39;00m\n\u001b[1;32m    196\u001b[0m \n\u001b[1;32m    197\u001b[0m \u001b[38;5;124;03mNOTE: In case of multiple model results with different time coverage,\u001b[39;00m\n\u001b[0;32m   (...)\u001b[0m\n\u001b[1;32m    238\u001b[0m \u001b[38;5;124;03m    Create a Comparer from observation and model results that are already matched\u001b[39;00m\n\u001b[1;32m    239\u001b[0m \u001b[38;5;124;03m\"\"\"\u001b[39;00m\n\u001b[1;32m    240\u001b[0m \u001b[38;5;28;01mif\u001b[39;00m \u001b[38;5;28misinstance\u001b[39m(obs, get_args(ObsInputType)):\n\u001b[0;32m--> 241\u001b[0m     \u001b[38;5;28;01mreturn\u001b[39;00m \u001b[43m_single_obs_compare\u001b[49m\u001b[43m(\u001b[49m\n\u001b[1;32m    242\u001b[0m \u001b[43m        \u001b[49m\u001b[43mobs\u001b[49m\u001b[43m,\u001b[49m\n\u001b[1;32m    243\u001b[0m \u001b[43m        \u001b[49m\u001b[43mmod\u001b[49m\u001b[43m,\u001b[49m\n\u001b[1;32m    244\u001b[0m \u001b[43m        \u001b[49m\u001b[43mobs_item\u001b[49m\u001b[38;5;241;43m=\u001b[39;49m\u001b[43mobs_item\u001b[49m\u001b[43m,\u001b[49m\n\u001b[1;32m    245\u001b[0m \u001b[43m        \u001b[49m\u001b[43mmod_item\u001b[49m\u001b[38;5;241;43m=\u001b[39;49m\u001b[43mmod_item\u001b[49m\u001b[43m,\u001b[49m\n\u001b[1;32m    246\u001b[0m \u001b[43m        \u001b[49m\u001b[43mgtype\u001b[49m\u001b[38;5;241;43m=\u001b[39;49m\u001b[43mgtype\u001b[49m\u001b[43m,\u001b[49m\n\u001b[1;32m    247\u001b[0m \u001b[43m        \u001b[49m\u001b[43mmax_model_gap\u001b[49m\u001b[38;5;241;43m=\u001b[39;49m\u001b[43mmax_model_gap\u001b[49m\u001b[43m,\u001b[49m\n\u001b[1;32m    248\u001b[0m \u001b[43m        \u001b[49m\u001b[43mspatial_method\u001b[49m\u001b[38;5;241;43m=\u001b[39;49m\u001b[43mspatial_method\u001b[49m\u001b[43m,\u001b[49m\n\u001b[1;32m    249\u001b[0m \u001b[43m    \u001b[49m\u001b[43m)\u001b[49m\n\u001b[1;32m    251\u001b[0m \u001b[38;5;28;01massert\u001b[39;00m \u001b[38;5;28misinstance\u001b[39m(obs, Collection)\n\u001b[1;32m    253\u001b[0m \u001b[38;5;28;01mif\u001b[39;00m \u001b[38;5;28mlen\u001b[39m(obs) \u001b[38;5;241m>\u001b[39m \u001b[38;5;241m1\u001b[39m \u001b[38;5;129;01mand\u001b[39;00m \u001b[38;5;28misinstance\u001b[39m(mod, Collection) \u001b[38;5;129;01mand\u001b[39;00m \u001b[38;5;28mlen\u001b[39m(mod) \u001b[38;5;241m>\u001b[39m \u001b[38;5;241m1\u001b[39m:\n",
      "File \u001b[0;32m~/src/book-learn-mikeio-modelskill/.venv/lib/python3.10/site-packages/modelskill/matching.py:324\u001b[0m, in \u001b[0;36m_single_obs_compare\u001b[0;34m(obs, mod, obs_item, mod_item, gtype, max_model_gap, spatial_method)\u001b[0m\n\u001b[1;32m    321\u001b[0m \u001b[38;5;250m\u001b[39m\u001b[38;5;124;03m\"\"\"Compare a single observation with multiple models\"\"\"\u001b[39;00m\n\u001b[1;32m    322\u001b[0m obs \u001b[38;5;241m=\u001b[39m _parse_single_obs(obs, obs_item, gtype\u001b[38;5;241m=\u001b[39mgtype)\n\u001b[0;32m--> 324\u001b[0m mods \u001b[38;5;241m=\u001b[39m \u001b[43m_parse_models\u001b[49m\u001b[43m(\u001b[49m\u001b[43mmod\u001b[49m\u001b[43m,\u001b[49m\u001b[43m \u001b[49m\u001b[43mmod_item\u001b[49m\u001b[43m,\u001b[49m\u001b[43m \u001b[49m\u001b[43mgtype\u001b[49m\u001b[38;5;241;43m=\u001b[39;49m\u001b[43mgtype\u001b[49m\u001b[43m)\u001b[49m\n\u001b[1;32m    326\u001b[0m raw_mod_data \u001b[38;5;241m=\u001b[39m {m\u001b[38;5;241m.\u001b[39mname: m\u001b[38;5;241m.\u001b[39mextract(obs, spatial_method) \u001b[38;5;28;01mfor\u001b[39;00m m \u001b[38;5;129;01min\u001b[39;00m mods}\n\u001b[1;32m    327\u001b[0m matched_data \u001b[38;5;241m=\u001b[39m match_space_time(obs, raw_mod_data, max_model_gap)\n",
      "File \u001b[0;32m~/src/book-learn-mikeio-modelskill/.venv/lib/python3.10/site-packages/modelskill/matching.py:533\u001b[0m, in \u001b[0;36m_parse_models\u001b[0;34m(mod, item, gtype)\u001b[0m\n\u001b[1;32m    531\u001b[0m \u001b[38;5;250m\u001b[39m\u001b[38;5;124;03m\"\"\"Return a list of ModelResult objects\"\"\"\u001b[39;00m\n\u001b[1;32m    532\u001b[0m \u001b[38;5;28;01mif\u001b[39;00m \u001b[38;5;28misinstance\u001b[39m(mod, get_args(MRInputType)):\n\u001b[0;32m--> 533\u001b[0m     \u001b[38;5;28;01mreturn\u001b[39;00m [\u001b[43m_parse_single_model\u001b[49m\u001b[43m(\u001b[49m\u001b[43mmod\u001b[49m\u001b[43m,\u001b[49m\u001b[43m \u001b[49m\u001b[43mitem\u001b[49m\u001b[38;5;241;43m=\u001b[39;49m\u001b[43mitem\u001b[49m\u001b[43m,\u001b[49m\u001b[43m \u001b[49m\u001b[43mgtype\u001b[49m\u001b[38;5;241;43m=\u001b[39;49m\u001b[43mgtype\u001b[49m\u001b[43m)\u001b[49m]\n\u001b[1;32m    534\u001b[0m \u001b[38;5;28;01melif\u001b[39;00m \u001b[38;5;28misinstance\u001b[39m(mod, Sequence):\n\u001b[1;32m    535\u001b[0m     \u001b[38;5;28;01mreturn\u001b[39;00m [_parse_single_model(m, item\u001b[38;5;241m=\u001b[39mitem, gtype\u001b[38;5;241m=\u001b[39mgtype) \u001b[38;5;28;01mfor\u001b[39;00m m \u001b[38;5;129;01min\u001b[39;00m mod]\n",
      "File \u001b[0;32m~/src/book-learn-mikeio-modelskill/.venv/lib/python3.10/site-packages/modelskill/matching.py:562\u001b[0m, in \u001b[0;36m_parse_single_model\u001b[0;34m(mod, item, gtype)\u001b[0m\n\u001b[1;32m    560\u001b[0m         \u001b[38;5;28;01mreturn\u001b[39;00m model_result(mod, item\u001b[38;5;241m=\u001b[39mitem, gtype\u001b[38;5;241m=\u001b[39mgtype)\n\u001b[1;32m    561\u001b[0m     \u001b[38;5;28;01mexcept\u001b[39;00m \u001b[38;5;167;01mValueError\u001b[39;00m \u001b[38;5;28;01mas\u001b[39;00m e:\n\u001b[0;32m--> 562\u001b[0m         \u001b[38;5;28;01mraise\u001b[39;00m \u001b[38;5;167;01mValueError\u001b[39;00m(\n\u001b[1;32m    563\u001b[0m             \u001b[38;5;124mf\u001b[39m\u001b[38;5;124m\"\u001b[39m\u001b[38;5;124mCould not compare. Unknown model result type \u001b[39m\u001b[38;5;132;01m{\u001b[39;00m\u001b[38;5;28mtype\u001b[39m(mod)\u001b[38;5;132;01m}\u001b[39;00m\u001b[38;5;124m. \u001b[39m\u001b[38;5;132;01m{\u001b[39;00m\u001b[38;5;28mstr\u001b[39m(e)\u001b[38;5;132;01m}\u001b[39;00m\u001b[38;5;124m\"\u001b[39m\n\u001b[1;32m    564\u001b[0m         )\n\u001b[1;32m    565\u001b[0m \u001b[38;5;28;01melse\u001b[39;00m:\n\u001b[1;32m    566\u001b[0m     \u001b[38;5;28;01mif\u001b[39;00m item \u001b[38;5;129;01mis\u001b[39;00m \u001b[38;5;129;01mnot\u001b[39;00m \u001b[38;5;28;01mNone\u001b[39;00m:\n",
      "\u001b[0;31mValueError\u001b[0m: Could not compare. Unknown model result type <class 'str'>. Input has more than 1 item, but item was not given! Available items: ['Europlatform: Sign. Wave Height', 'K14: Sign. Wave Height', 'F16: Sign. Wave Height', 'F3: Sign. Wave Height', 'Europlatform: Sign. Wave Height, W', 'K14: Sign. Wave Height, W', 'F16: Sign. Wave Height, W', 'F3: Sign. Wave Height, W', 'Europlatform: Sign. Wave Height, S', 'K14: Sign. Wave Height, S', 'F16: Sign. Wave Height, S', 'F3: Sign. Wave Height, S', 'Europlatform: Wind speed', 'K14: Wind speed', 'F16: Wind speed', 'F3: Wind speed', 'Europlatform: Wind direction', 'K14: Wind direction', 'F16: Wind direction', 'F3: Wind direction']"
     ]
    }
   ],
   "source": [
    "fn_mod = '../data/SW/ts_storm_4.dfs0'\n",
    "fn_obs = '../data/SW/eur_Hm0.dfs0'\n",
    "\n",
    "c = ms.match(fn_obs, fn_mod)"
   ]
  },
  {
   "cell_type": "markdown",
   "metadata": {},
   "source": [
    "When you have fixed the above snippet, you can continue to do the skill assessment"
   ]
  },
  {
   "cell_type": "code",
   "execution_count": null,
   "metadata": {},
   "outputs": [],
   "source": [
    "# plot a timeseries of the comparison\n",
    "# * remove the default title\n",
    "# * set the limits of the y axis to cover the 0-6m interval"
   ]
  },
  {
   "cell_type": "markdown",
   "metadata": {},
   "source": [
    "Your colleague, who is very skilled at Excel, wants to make a plot like this one:\n",
    "\n",
    "![](../images/excel_chart.png)"
   ]
  },
  {
   "cell_type": "code",
   "execution_count": null,
   "metadata": {},
   "outputs": [],
   "source": [
    "# Use the .df property on the comparer object to save the obs and model timeseries as an Excel file (\"skill.xlsx\")\n",
    "# you might get an error \"No module named 'openpyxl'\", the solution is to run `pip install openpyxl`"
   ]
  },
  {
   "cell_type": "code",
   "execution_count": null,
   "metadata": {},
   "outputs": [],
   "source": [
    "# calculate the default skill metrics using the skill method\n"
   ]
  },
  {
   "cell_type": "code",
   "execution_count": 20,
   "metadata": {},
   "outputs": [],
   "source": [
    "# calculate the skill using the mean absolute percentage error and max error, use the metrics argument\n",
    "# c.skill(metrics=[__,__])"
   ]
  },
  {
   "cell_type": "code",
   "execution_count": null,
   "metadata": {},
   "outputs": [],
   "source": [
    "# import the hit_ratio metric from modelskillill.metrics\n",
    "# and calculate the ratio when the deviation between model and observation is less than 0.5 m\n",
    "# hint: use the Observation and Model columns of the dataframe from the .df property you used above\n",
    "\n",
    "# is the hit ratio ~0.95 ? Does it match with your expectation based on the timeseries plot?\n",
    "# what about a deviation of less than 0.1m? Pretty accurate wave model..."
   ]
  },
  {
   "cell_type": "code",
   "execution_count": null,
   "metadata": {},
   "outputs": [],
   "source": [
    "# hit_ratio(c.df.Observation, __, a=__)"
   ]
  },
  {
   "cell_type": "code",
   "execution_count": null,
   "metadata": {},
   "outputs": [],
   "source": [
    "# compare the distribution of modelled and observed values, using the .hist method\n",
    "# change the number of bins to 10"
   ]
  }
 ],
 "metadata": {
  "interpreter": {
   "hash": "f4041ee05ab07c15354d6207e763f17a216c3f5ccf08906343c2b4fd3fa7a6fb"
  },
  "kernelspec": {
   "display_name": "Python 3.9.6 64-bit",
   "name": "python3"
  },
  "language_info": {
   "codemirror_mode": {
    "name": "ipython",
    "version": 3
   },
   "file_extension": ".py",
   "mimetype": "text/x-python",
   "name": "python",
   "nbconvert_exporter": "python",
   "pygments_lexer": "ipython3",
   "version": "3.10.12"
  },
  "orig_nbformat": 4
 },
 "nbformat": 4,
 "nbformat_minor": 2
}
