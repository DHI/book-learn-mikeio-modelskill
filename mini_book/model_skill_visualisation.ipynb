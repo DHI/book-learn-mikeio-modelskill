{
 "cells": [
  {
   "cell_type": "code",
   "execution_count": 3,
   "metadata": {},
   "outputs": [],
   "source": [
    "from modelskill import PointObservation\n",
    "from modelskill import ModelResult, Connector"
   ]
  },
  {
   "cell_type": "markdown",
   "metadata": {},
   "source": [
    "# Model skill visualisation"
   ]
  },
  {
   "cell_type": "code",
   "execution_count": 4,
   "metadata": {},
   "outputs": [],
   "source": [
    "fn = 'data/SW/HKZN_local_2017_DutchCoast.dfsu'\n",
    "mr = ModelResult(fn, name='HKZN_local', item=0)\n",
    "\n",
    "obs = [PointObservation('data/SW/HKZA_Hm0.dfs0', item=0, x=3.9, y=52.7, name=\"HKZA\"),\n",
    "       PointObservation('data/SW/HKZA_Hm0.dfs0', item=0, x=3.8, y=52.5, name=\"HKZA_2\"),\n",
    "       PointObservation('data/SW/HKZA_Hm0.dfs0', item=0, x=3.5, y=52.6, name=\"HKZA_3\"),\n",
    "       PointObservation('data/SW/HKNA_Hm0.dfs0', item=0, x=4.2420, y=52.6887, name=\"HKNA\"),\n",
    "       PointObservation('data/SW/HKNA_Hm0.dfs0', item=0, x=4.2, y=52.6, name=\"HKNA_2\"),\n",
    "       PointObservation('data/SW/HKNA_Hm0.dfs0', item=0, x=4.3, y=52.7, name=\"HKNA_3\"),\n",
    "       PointObservation(\"data/SW/eur_Hm0.dfs0\", item=0, x=3.2760, y=51.9990, name=\"EPL\"),\n",
    "       PointObservation(\"data/SW/eur_Hm0.dfs0\", item=0, x=3.2, y=51.9, name=\"EPL_2\"),\n",
    "       PointObservation(\"data/SW/eur_Hm0.dfs0\", item=0, x=3.3, y=51.95, name=\"EPL_3\")\n",
    "]\n",
    "\n",
    "con = Connector(obs, mr)\n"
   ]
  },
  {
   "cell_type": "markdown",
   "metadata": {},
   "source": [
    "## Save and load configuration\n",
    "\n",
    "Specifying the model-observation connection in Python code is not the only way. You can also use Excel or a text file in yaml format to store the configuration."
   ]
  },
  {
   "cell_type": "markdown",
   "metadata": {},
   "source": [
    "### Excel"
   ]
  },
  {
   "cell_type": "code",
   "execution_count": 9,
   "metadata": {},
   "outputs": [],
   "source": [
    "# save as Excel file\n",
    "con.to_config(\"data/SW/DutchCoast.xlsx\")"
   ]
  },
  {
   "cell_type": "markdown",
   "metadata": {},
   "source": [
    "![](images/config.png)"
   ]
  },
  {
   "cell_type": "code",
   "execution_count": 11,
   "metadata": {},
   "outputs": [
    {
     "data": {
      "text/plain": [
       "<Connector> with \n",
       " -<PointConnector> obs=HKZA(n=575) :: model=HKZN_local\n",
       " -<PointConnector> obs=HKZA_2(n=575) :: model=HKZN_local\n",
       " -<PointConnector> obs=HKZA_3(n=575) :: model=HKZN_local\n",
       " -<PointConnector> obs=HKNA(n=564) :: model=HKZN_local\n",
       " -<PointConnector> obs=HKNA_2(n=564) :: model=HKZN_local\n",
       " -<PointConnector> obs=HKNA_3(n=564) :: model=HKZN_local\n",
       " -<PointConnector> obs=EPL(n=94) :: model=HKZN_local\n",
       " -<PointConnector> obs=EPL_2(n=94) :: model=HKZN_local\n",
       " -<PointConnector> obs=EPL_3(n=94) :: model=HKZN_local"
      ]
     },
     "execution_count": 11,
     "metadata": {},
     "output_type": "execute_result"
    }
   ],
   "source": [
    "# Read config file\n",
    "con = Connector.from_config(\"data/SW/DutchCoast.xlsx\")\n",
    "con"
   ]
  },
  {
   "cell_type": "markdown",
   "metadata": {},
   "source": [
    "### Yaml"
   ]
  },
  {
   "cell_type": "code",
   "execution_count": 16,
   "metadata": {},
   "outputs": [],
   "source": [
    "# save as yaml file\n",
    "con.to_config(\"data/SW/DutchCoast.yml\")"
   ]
  },
  {
   "cell_type": "markdown",
   "metadata": {},
   "source": [
    "![](images/config_yml.png)"
   ]
  },
  {
   "cell_type": "markdown",
   "metadata": {},
   "source": [
    "## Data analysis"
   ]
  },
  {
   "cell_type": "code",
   "execution_count": 12,
   "metadata": {},
   "outputs": [],
   "source": [
    "cc = con.extract()"
   ]
  },
  {
   "cell_type": "code",
   "execution_count": null,
   "metadata": {},
   "outputs": [],
   "source": [
    "cc.skill()"
   ]
  },
  {
   "cell_type": "code",
   "execution_count": null,
   "metadata": {},
   "outputs": [],
   "source": [
    "s = cc.skill()\n",
    "type(s)"
   ]
  },
  {
   "cell_type": "code",
   "execution_count": null,
   "metadata": {},
   "outputs": [],
   "source": [
    "s.plot_bar('rmse')"
   ]
  },
  {
   "cell_type": "code",
   "execution_count": null,
   "metadata": {},
   "outputs": [],
   "source": [
    "s.plot_line('urmse')"
   ]
  },
  {
   "cell_type": "markdown",
   "metadata": {},
   "source": [
    "## Custom plot\n",
    "\n",
    "All skill statistics are available in a dataframe, and in case you need a tailor-made plot, you can get data and use matplotlib to get exactly what you need."
   ]
  },
  {
   "cell_type": "code",
   "execution_count": null,
   "metadata": {},
   "outputs": [],
   "source": [
    "import matplotlib.pyplot as plt"
   ]
  },
  {
   "cell_type": "code",
   "execution_count": null,
   "metadata": {},
   "outputs": [],
   "source": [
    "df = s.df.sort_values('bias')\n",
    "x = df.bias\n",
    "y = df.index"
   ]
  },
  {
   "cell_type": "code",
   "execution_count": null,
   "metadata": {},
   "outputs": [],
   "source": [
    "plt.subplots(figsize=(6,6))\n",
    "plt.scatter(x,y,marker='D',c='red',s=100)\n",
    "plt.xlim(-0.35,0.35)\n",
    "plt.axvline(0,linestyle='--')\n",
    "plt.xlabel(\"Bias (m)\")\n",
    "plt.title(mr.name)\n",
    "plt.grid()"
   ]
  }
 ],
 "metadata": {
  "interpreter": {
   "hash": "f4041ee05ab07c15354d6207e763f17a216c3f5ccf08906343c2b4fd3fa7a6fb"
  },
  "kernelspec": {
   "display_name": "Python 3 (ipykernel)",
   "language": "python",
   "name": "python3"
  },
  "language_info": {
   "codemirror_mode": {
    "name": "ipython",
    "version": 3
   },
   "file_extension": ".py",
   "mimetype": "text/x-python",
   "name": "python",
   "nbconvert_exporter": "python",
   "pygments_lexer": "ipython3",
   "version": "3.9.6"
  }
 },
 "nbformat": 4,
 "nbformat_minor": 4
}
