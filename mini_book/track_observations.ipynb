{
 "cells": [
  {
   "cell_type": "markdown",
   "metadata": {},
   "source": [
    "# Track observations\n",
    "\n",
    "Track observations are point observations for moving points. The index therefore consists of time, x- and y-positions. Altimetry data acquired from satellite is an example of track observations; data obtained from boat is another example. \n",
    "\n",
    "The track observation data may come from a file or web api. We will cover the following situations here: \n",
    "\n",
    "* File\n",
    "    - dfs0\n",
    "    - csv/excel\n",
    "* REST API\n",
    "\n",
    "modelskill has the class [TrackObservation](https://dhi.github.io/fmskill/api.html#modelskill.observation.TrackObservation) for working with track observations. \n",
    "\n",
    "Track observations consist of time-**position**-value (data) and *meta* data such as\n",
    "\n",
    "* data type (e.g. water level)\n",
    "* unit (e.g. meter)\n",
    "\n",
    "FMskill is agnostic to the coordinate reference system (CRS) and it is therefore the responsibility of the user to make sure that all data (observations and model) use the same CRS."
   ]
  },
  {
   "cell_type": "code",
   "execution_count": null,
   "metadata": {},
   "outputs": [],
   "source": [
    "import pandas as pd\n",
    "from modelskillill import TrackObservation\n",
    "from mikeio import eum"
   ]
  },
  {
   "cell_type": "markdown",
   "metadata": {},
   "source": [
    "## Data from file\n",
    "\n",
    "The two first items in the file must be x- and y- coordinate values. \n",
    "\n",
    "**dfs0** files can be read directly by TrackObservation. \n",
    "\n",
    "**csv** files needs to be read by pandas first and passed to TrackObservation as a DataFrame. "
   ]
  },
  {
   "cell_type": "code",
   "execution_count": null,
   "metadata": {},
   "outputs": [],
   "source": [
    "fn = \"data/SW/altimetry_NorthSea_20171027.csv\"\n",
    "df = pd.read_csv(fn, index_col=0, parse_dates=True)  # step 1: create DataFrame\n",
    "df.head()"
   ]
  },
  {
   "cell_type": "code",
   "execution_count": null,
   "metadata": {},
   "outputs": [],
   "source": [
    "o1 = TrackObservation(df, item=\"surface_elevation\")  # step 2: create TrackObservation\n",
    "o1"
   ]
  },
  {
   "cell_type": "markdown",
   "metadata": {},
   "source": [
    "## DHI Altimetry API\n",
    "\n",
    "You need to pip install \"watobs\" for this part!\n",
    "\n",
    "See [Altimetry_data.ipynb](https://nbviewer.jupyter.org/github/DHI/watobs/blob/main/notebooks/Altimetry_data.ipynb) example notebook.\n"
   ]
  },
  {
   "cell_type": "code",
   "execution_count": null,
   "metadata": {},
   "outputs": [],
   "source": [
    "import os\n",
    "from watobs import DHIAltimetryRepository"
   ]
  },
  {
   "cell_type": "code",
   "execution_count": null,
   "metadata": {},
   "outputs": [],
   "source": [
    "api_key = os.environ[\"DHI_ALTIMETRY_API_KEY\"]\n",
    "repo = DHIAltimetryRepository(api_key)"
   ]
  },
  {
   "cell_type": "code",
   "execution_count": null,
   "metadata": {},
   "outputs": [],
   "source": [
    "repo.time_of_newest_data"
   ]
  },
  {
   "cell_type": "code",
   "execution_count": null,
   "metadata": {},
   "outputs": [],
   "source": [
    "data = repo.get_altimetry_data(area=\"lon=2.9&lat=53.9&radius=100\", start_time=\"2019-10-1\", \n",
    "end_time=\"2019-10-8\")\n",
    "data.df.head()"
   ]
  },
  {
   "cell_type": "code",
   "execution_count": null,
   "metadata": {},
   "outputs": [],
   "source": [
    "data.plot_map()"
   ]
  },
  {
   "cell_type": "code",
   "execution_count": null,
   "metadata": {},
   "outputs": [],
   "source": [
    "o1 = TrackObservation(data.df, item=\"significant_wave_height\", name='Alti_from_df')\n",
    "o1.itemInfo = eum.ItemInfo(eum.EUMType.Significant_wave_height)\n",
    "o1"
   ]
  },
  {
   "cell_type": "markdown",
   "metadata": {},
   "source": [
    "Or you can save the data to a dfs0 first..."
   ]
  },
  {
   "cell_type": "code",
   "execution_count": null,
   "metadata": {},
   "outputs": [],
   "source": [
    "data.to_dfs0('alti_NS_20191001.dfs0')"
   ]
  },
  {
   "cell_type": "code",
   "execution_count": null,
   "metadata": {},
   "outputs": [],
   "source": [
    "o2 = TrackObservation('alti_NS_20191001.dfs0', item=\"Significant Wave Height\")\n",
    "o2.itemInfo = eum.ItemInfo(eum.EUMType.Significant_wave_height)\n",
    "o2"
   ]
  },
  {
   "cell_type": "code",
   "execution_count": null,
   "metadata": {},
   "outputs": [],
   "source": [
    "o1.df[\"significant_wave_height\"].plot(marker='.')\n",
    "o2.df[\"Significant Wave Height\"].plot();"
   ]
  }
 ],
 "metadata": {
  "interpreter": {
   "hash": "fa576ebcd40e010bdc0ae86b06ce09151f3424f9e9aed6893ff04f39a9299d89"
  },
  "kernelspec": {
   "display_name": "Python 3.8.10 64-bit ('base': conda)",
   "name": "python3"
  },
  "language_info": {
   "codemirror_mode": {
    "name": "ipython",
    "version": 3
   },
   "file_extension": ".py",
   "mimetype": "text/x-python",
   "name": "python",
   "nbconvert_exporter": "python",
   "pygments_lexer": "ipython3",
   "version": "3.8.10"
  },
  "orig_nbformat": 4
 },
 "nbformat": 4,
 "nbformat_minor": 2
}
