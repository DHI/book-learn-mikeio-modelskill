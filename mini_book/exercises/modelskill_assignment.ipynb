{
 "cells": [
  {
   "cell_type": "markdown",
   "metadata": {},
   "source": [
    "# FMskill assignment\n",
    "\n",
    "You are working on a project modelling waves in the Southern North Sea. You have done 6 different calibration runs and want to choose the \"best\". You would also like to see how your best model is performing compared to a third-party model in NetCDF. \n",
    "\n",
    "The data: \n",
    "\n",
    "* SW model results: 6 dfs0 files ts_runX.dfs0 each with 4 items corresponding to 4 stations\n",
    "* observations: 4 dfs0 files with station data for (name, longitude, latitude):\n",
    "    - F16: 4.0122, 54.1167\n",
    "    - HKZA: 4.0090, 52.3066\n",
    "    - K14: 3.6333, 53.2667\n",
    "    - L9: 4.9667, 53.6167\n",
    "* A map observations_map.png showing the model domain and observation positions\n",
    "* Third party model: 1 NetCDF file\n",
    "\n",
    "The tasks:\n",
    "\n",
    "1. Calibration - find the best run\n",
    "2. Validation - compare model to third-party model"
   ]
  },
  {
   "cell_type": "code",
   "execution_count": 1,
   "metadata": {},
   "outputs": [],
   "source": [
    "fldr = \"../data/FMskill_assignment/\"   # where have you put your data? "
   ]
  },
  {
   "cell_type": "code",
   "execution_count": 2,
   "metadata": {},
   "outputs": [],
   "source": [
    "import fmskill\n",
    "from fmskill import PointObservation, ModelResult, Connector"
   ]
  },
  {
   "cell_type": "markdown",
   "metadata": {},
   "source": [
    "## 1. Calibration\n",
    "\n",
    "* 1.1 Start simple: compare F16 with SW1 (the first calibration run)\n",
    "* 1.2 Define all observations and all model results\n",
    "* 1.3 Create connector, plot temporal coverage\n",
    "* 1.4 Evaluate results\n",
    "* 1.5 Which model is best?"
   ]
  },
  {
   "cell_type": "markdown",
   "metadata": {},
   "source": [
    "### 1.1 Simple compare\n",
    "\n",
    "Use fmskill.compare to do a quick comparison of F16 and SW1. \n",
    "\n",
    "What is the mean absolute error in cm? \n",
    "Do a time series plot."
   ]
  },
  {
   "cell_type": "markdown",
   "metadata": {},
   "source": [
    "### 1.2 Define all observations and all model results\n",
    "\n",
    "* Define 4 PointObservations o1, o2, o3, o4\n",
    "* Define 6 ModelResults mr1, mr2, ... (name them \"SW1\", \"SW2\", ...)\n",
    "* How many items do the ModelResults have?  "
   ]
  },
  {
   "cell_type": "markdown",
   "metadata": {},
   "source": [
    "### 1.3 Create connector, plot temporal coverage\n",
    "\n",
    "* Create empty Connector con\n",
    "* The add the connections one observation at a time (start by matching o1 with the 6 models, then o2...)\n",
    "* Print con to screen - which observation has most observation points? \n",
    "* Plot the temporal coverage of observations and models\n",
    "* Save the Connector to an excel configuration file"
   ]
  },
  {
   "cell_type": "markdown",
   "metadata": {},
   "source": [
    "### 1.4 Evaluate results\n",
    "\n",
    "Do relevant qualitative and quantitative analysis (e.g. time series plots, scatter plots, skill tables etc) to compare the models. "
   ]
  },
  {
   "cell_type": "markdown",
   "metadata": {},
   "source": [
    "### 1.5 Find the best\n",
    "\n",
    "Which calibration run is best? \n",
    "\n",
    "* Which model performs best in terms of bias? \n",
    "* Which model has the smallest scatter index? \n",
    "* Which model has linear slope closest to 1.0 for the station HKZA? \n",
    "* Consider the last day only (Nov 19) - which model has the smallest bias for that day? \n",
    "* Weighted: Give observation F16 10-times more weight than the other observations - which has the smallest MAE?  \n",
    "* Extremes: Which model has lowest rmse for Hs>4.0  (df = cc.all_df[cc.all_df.obs_val>4])?\n"
   ]
  },
  {
   "cell_type": "markdown",
   "metadata": {},
   "source": [
    "## 2. Validation"
   ]
  },
  {
   "cell_type": "markdown",
   "metadata": {},
   "source": [
    "We will now compare our best model against the UK MetOffice's North West Shelf model stored in NWS_HM0.nc. \n",
    "\n",
    "* 2.1 Create a ModelResult mr_NWS, evaluate mr_NWS.ds\n",
    "* 2.2 Plot the first time step (hint .isel(time=0)) of ds (hint: the item is called \"VHM0\")\n",
    "* 2.3 Create a Connector con_NWS with the 4 observations and mr_NWS \n",
    "* 2.4 Evaluate NWS - what is the mean rmse? \n",
    "* 2.5 Compare NWS to SW5 - which model is better? And is it so for all stations and all metrics? (hint: you can merge ComparisonCollections using the + operator)"
   ]
  }
 ],
 "metadata": {
  "interpreter": {
   "hash": "fa576ebcd40e010bdc0ae86b06ce09151f3424f9e9aed6893ff04f39a9299d89"
  },
  "kernelspec": {
   "display_name": "Python 3.8.10 64-bit ('base': conda)",
   "name": "python3"
  },
  "language_info": {
   "codemirror_mode": {
    "name": "ipython",
    "version": 3
   },
   "file_extension": ".py",
   "mimetype": "text/x-python",
   "name": "python",
   "nbconvert_exporter": "python",
   "pygments_lexer": "ipython3",
   "version": "3.8.10"
  }
 },
 "nbformat": 4,
 "nbformat_minor": 4
}
